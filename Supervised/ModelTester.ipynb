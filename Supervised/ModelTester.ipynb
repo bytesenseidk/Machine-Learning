{
 "cells": [
  {
   "cell_type": "code",
   "execution_count": 81,
   "metadata": {},
   "outputs": [],
   "source": [
    "%matplotlib inline\n",
    "\n",
    "import numpy as np\n",
    "import pandas as pd\n",
    "import matplotlib.pyplot as plt\n",
    "from matplotlib import style\n",
    "from sklearn import datasets\n",
    "from sklearn.svm import SVC\n",
    "from sklearn.cluster import KMeans\n",
    "from sklearn.metrics import accuracy_score\n",
    "from sklearn.preprocessing import StandardScaler\n",
    "from sklearn.model_selection import train_test_split\n",
    "\n",
    "style.use(\"ggplot\")\n",
    "\n",
    "dataset = datasets.load_wine()\n",
    "\n",
    "X = dataset.data\n",
    "y = dataset.target"
   ]
  },
  {
   "cell_type": "code",
   "execution_count": 82,
   "metadata": {},
   "outputs": [
    {
     "name": "stdout",
     "output_type": "stream",
     "text": [
      "Prediction:\t\tActual:\t\t\tAccuracy:\n",
      "malic_acid\t\tmalic_acid\t\t94.44%\n",
      "alcohol   \t\talcohol   \t\t90.74%\n",
      "malic_acid\t\tash       \t\t88.89%\n",
      "malic_acid\t\tmalic_acid\t\t94.44%\n",
      "alcohol   \t\talcohol   \t\t92.59%\n",
      "malic_acid\t\tmalic_acid\t\t90.74%\n",
      "Average Accuracy: 94.81%\n",
      "Misclassifications: 8 out of 50 examples\n"
     ]
    }
   ],
   "source": [
    "\n",
    "class SupportVectorClassifier(object):\n",
    "    def __init__(self, dataset, X, y, n_iter=45):\n",
    "        self.X = X\n",
    "        self.y = y\n",
    "        self.dataset = dataset\n",
    "        self.n_iter = n_iter\n",
    "        \n",
    "        self.classes = list(dataset.feature_names)\n",
    "        self.model = SVC(kernel=\"linear\", C=3)\n",
    "        self.results = []\n",
    "        self.predictions = []\n",
    "        self.misclassifications = 0\n",
    "        \n",
    "        self.train_model()\n",
    "    \n",
    "    \n",
    "    def train_model(self):\n",
    "        self.results.append(\"Prediction:\\t\\tActual:\\t\\t\\tAccuracy:\")\n",
    "        for i in range(self.n_iter):\n",
    "            X_train, X_test, y_train, y_test = train_test_split(self.X, self.y, test_size=0.3)        \n",
    "            self.model.fit(X_train, y_train)\n",
    "\n",
    "            pred = self.model.predict(X_test)\n",
    "            if self.classes[pred[i]] != self.classes[y_test[i]]:\n",
    "                self.misclassifications += 1\n",
    "                \n",
    "            acc = round(accuracy_score(y_test, pred) * 100, 2)\n",
    "            self.predictions.append(acc)\n",
    "            \n",
    "            self.results.append(f\"{self.classes[pred[i]].ljust(10)}\\t\\t{self.classes[y_test[i]].ljust(10)}\\t\\t{acc}%\")\n",
    "\n",
    "\n",
    "    def average_accuracy(self):\n",
    "        self.predictions = sorted(self.predictions)\n",
    "        scaled_data = self.predictions[5:-5]\n",
    "        return round(sum(scaled_data) / len(scaled_data), 2)\n",
    "    \n",
    "    \n",
    "if __name__ == \"__main__\":\n",
    "    svc = SupportVectorClassifier(dataset, X, y, n_iter=50)\n",
    "    [print(svc.results[i]) for i in range(7)]\n",
    "    print(f\"Average Accuracy: {svc.average_accuracy()}%\")\n",
    "    print(f\"Misclassifications: {svc.misclassifications} out of {svc.n_iter} examples\")"
   ]
  }
 ],
 "metadata": {
  "interpreter": {
   "hash": "12c0503252f5e3b599e9b1df0980693168c0f1e59ac79299172e5f3c099bd4f7"
  },
  "kernelspec": {
   "display_name": "Python 3.10.0 64-bit",
   "language": "python",
   "name": "python3"
  },
  "language_info": {
   "codemirror_mode": {
    "name": "ipython",
    "version": 3
   },
   "file_extension": ".py",
   "mimetype": "text/x-python",
   "name": "python",
   "nbconvert_exporter": "python",
   "pygments_lexer": "ipython3",
   "version": "3.7.11"
  },
  "orig_nbformat": 4
 },
 "nbformat": 4,
 "nbformat_minor": 2
}
