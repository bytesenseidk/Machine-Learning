{
 "cells": [
  {
   "cell_type": "markdown",
   "metadata": {},
   "source": [
    "# Systems of linear equation equations\n",
    "1. Systems of linear equations play a central part of linear algebra.\n",
    "2. Many problems can be formulated as systems of linear equations.\n",
    "\n",
    "### Symbols and meaning:\n",
    "- Scalars (lowercase): $\\quad a, b, c, a\\beta$\n",
    "- Vectors (bold): $\\quad \\bold{x, y, z}$\n",
    "- Matrices (bold uppercase): $\\quad \\bold{A, B, C}$\n",
    "- Transpose of vector and matrix: $\\quad x^T, \\bold{A}^T$\n",
    "- Inverse of a matrix: $\\quad A^{-1}$\n",
    "- Inner product of x and y: $\\quad \\langle x, y \\rangle$\n",
    "- Dot product of x and y: $\\quad x^Ty$\n",
    "- Ordered tuple: $\\quad B = (b_1, b_2, b_3)$\n",
    "- Horizonally stacked matrix of vectors: $\\quad \\bold{B = [b_1, b_2, b_3]}$\n",
    "- Unordered set of vectors: $\\quad \\textit{B = \\{1, 2, 3\\}}$\n",
    "\n",
    "### Example 1:\n",
    "- Products (vector):  $N_1,...,N_n$\n",
    "- Resources (vector): $R_1,...,R_m$\n",
    "- Product (unit): $N_j$\n",
    "- Resource (unit): $R_i$\n",
    "- Units (amount): $a_{ij}$\n",
    "- Units of product (amount): $x_j$\n",
    "- Total units (amount): $b_i$\n",
    "\n",
    "\n",
    "1. A company produces ($N_1,...,N_n$) products for which ($R_1,...,R_m$) resources are required.\n",
    "2. To produce a unit of product ($N_j$), it requires ($a_{ij}$) units of resource ($R_i$).\n",
    "    - $i = 1,...,m$\n",
    "    - $j = 1,...,n$\n",
    "3. The object is to find an optimal production plan:\n",
    "    - A plan of how many units ($x_j$) of product ($N_j$) should be produced if a total of ($b_i$) units of resource ($R_i$) are available with ideally no resources are left over.\n",
    "4. To produce ($x_1,...,x_n$) units of the corresponding products, we need a total of ($a_{i1}x_1 + ... + a_{in}x_n$) units of resouces ($R_i$).\n",
    "5. An optimal production plan $(x_1,...,x_m)\\in \\Reals{^n}$, has to satisfy the following system of equations:\n",
    "    - $a_{11}x_1 + ... + a_{1n}x_n = b_1$"
   ]
  }
 ],
 "metadata": {
  "language_info": {
   "name": "python"
  },
  "orig_nbformat": 4
 },
 "nbformat": 4,
 "nbformat_minor": 2
}
