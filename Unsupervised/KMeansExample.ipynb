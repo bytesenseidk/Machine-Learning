{
 "cells": [
  {
   "cell_type": "code",
   "execution_count": null,
   "metadata": {},
   "outputs": [],
   "source": [
    "x, y, z = features[:3]\n",
    "x_n = np.vstack((x, y, z)).T\n",
    "\n",
    "kmeans = KMeans(n_clusters=3)\n",
    "kmeans.fit(x_n)\n",
    "\n",
    "centroids = kmeans.cluster_centers_\n",
    "labels = kmeans.labels_\n",
    "print(features)\n",
    "\n",
    "colors = (\"r.\", \"g.\", \"b.\")\n",
    "\n",
    "fix, ax = plt.subplots()\n",
    "\n",
    "for i in range(len(x_n)):\n",
    "    ax.plot(x_n[i][0], x_n[i][1], colors[labels[i]], markersize=10)\n",
    "\n",
    "ax.scatter(centroids[:, 0], centroids[:, 1], marker=\"x\", s=150, linewidth=5, zorder=10, color=\"black\")"
   ]
  },
  {
   "cell_type": "code",
   "execution_count": null,
   "metadata": {},
   "outputs": [],
   "source": [
    "# def kmeans_test(dataset, k):\n",
    "#     kmeans = KMeans(n_clusters=k)\n",
    "#     kmeans.fit()\n",
    "#     feature_count = len(dataset.data.T)\n",
    "#     centroids = kmeans.cluster_centers_\n",
    "#     labels = kmeans.labels_\n",
    "    \n",
    "#     iterations = 0\n",
    "#     old_centroid = None\n",
    "    \n",
    "#     print(feature_count)\n",
    "    \n",
    "#     # while True:\n",
    "#     #     old_centroid = centroids\n",
    "#     #     iterations += 1\n",
    "\n",
    "\"\"\"\n",
    "def plot_data():\n",
    "    a, b, c = features[:3]\n",
    "    j = np.vstack((a, b, c)).T\n",
    "        \n",
    "    colors = (\"r.\", \"g.\", \"b.\")\n",
    "    fig = plt.figure() \n",
    "    ax = fig.add_subplot(111)\n",
    "    plt.grid()\n",
    "    for i in range(len(j)):\n",
    "        ax.plot(j[i][0], j[i][1], colors[self.y[i]], markersize=10)\n",
    "\"\"\""
   ]
  }
 ],
 "metadata": {
  "language_info": {
   "name": "python"
  },
  "orig_nbformat": 4
 },
 "nbformat": 4,
 "nbformat_minor": 2
}
