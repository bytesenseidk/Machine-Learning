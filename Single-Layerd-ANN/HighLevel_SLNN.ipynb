{
 "cells": [
  {
   "cell_type": "code",
   "execution_count": 2,
   "metadata": {},
   "outputs": [],
   "source": [
    "%matplotlib inline\n",
    "\n",
    "import numpy as np\n",
    "import matplotlib.pyplot as plt\n",
    "from sklearn import datasets\n",
    "from sklearn.metrics import accuracy_score\n",
    "from sklearn.linear_model import Perceptron\n",
    "from sklearn.preprocessing import StandardScaler\n",
    "from sklearn.model_selection import train_test_split\n",
    "from matplotlib.colors import ListedColormap"
   ]
  },
  {
   "cell_type": "markdown",
   "metadata": {},
   "source": [
    "### Method Descriptions:\n",
    "1. train_test_split(*arrays, test_size=None, train_size=None, random_state=None, shuffle=True, stratify=None):\n",
    "    - Randomly splits dataset in 70% training data and 30% test data.\n",
    "    - Shuffles dataset before split with a fixed random seed (random_state=1).\n",
    "        - This hinders all examples from class 0 and class 1 to end up in the training dataset, and the test dataset would consist of 45 examples from class 2.\n",
    "        - By providing a fixed random seed for the internal pseudo-random number generator, the dataset is shuffeled prior to splitting.\n",
    "        - Using such a fixed random_state ensures reproducible results."
   ]
  },
  {
   "cell_type": "code",
   "execution_count": 3,
   "metadata": {},
   "outputs": [],
   "source": [
    "iris = datasets.load_iris() # Loads dataset\n",
    "\n",
    "X = iris.data[:, [2, 3]] # Petal length & Petal width of 150 examples\n",
    "y = iris.target          # Corresponding class labels of the flowers\n",
    "\n",
    "X_train, X_test, y_train, y_test = train_test_split(X, y, test_size=0.3, random_state=1, stratify=y)"
   ]
  },
  {
   "cell_type": "markdown",
   "metadata": {},
   "source": [
    "### Method Descriptions:\n",
    "1. unique(ar, return_index=False, return_inverse=False, return_counts=False, axis=None):\n",
    "    - Returns the sorted unique elements of an array. There are three optional outputs in addition to the unique elements:\n",
    "        - The indices of the input array that give the unique values.\n",
    "        - The indices of the unique array that reconstruct the input array.\n",
    "        - The number of times each unique value comes up in the input array.\n",
    "2. bincount(x, weights=None, minlength=0):\n",
    "    - Count number of occurrences of each value in array of non-negative ints."
   ]
  },
  {
   "cell_type": "code",
   "execution_count": 4,
   "metadata": {},
   "outputs": [
    {
     "name": "stdout",
     "output_type": "stream",
     "text": [
      "Class Labels:       [0 1 2]\n",
      "Total Label Count:  [50 50 50]\n",
      "Train Label Count:  [35 35 35]\n",
      "Test Label Count:   [15 15 15]\n"
     ]
    }
   ],
   "source": [
    "print(f\"Class Labels:       {np.unique(y)}\") \n",
    "print(f\"Total Label Count:  {np.bincount(y)}\")\n",
    "print(f\"Train Label Count:  {np.bincount(y_train)}\")\n",
    "print(f\"Test Label Count:   {np.bincount(y_test)}\")"
   ]
  },
  {
   "cell_type": "markdown",
   "metadata": {},
   "source": [
    "### Method Descriptions:\n",
    "1. StandardScaler(*, copy=True, with_mean=True, with_std=True):\n",
    "    - Standardize features by removing the mean and scaling to unit variance.\n",
    "    - The standard score of a sample x is calculated as:\n",
    "        - $z = (x - u) / s$\n",
    "            - $u$ is the mean of the training samples or zero if with_mean=False.\n",
    "            - $s$ is the standard deviation of the training samples or one if with_std=False.\n",
    "2. scalar.fit(X, y=None, sample_weight=None):\n",
    "    - Compute the mean and std to be used for later scaling.\n",
    "3. scalar.transform(X, copy=None):\n",
    "    - Perform standardization by centering and scaling.\n",
    "4. perceptron.fit(X, y, coef_init=None, intercept_init=None, sample_weight=None):\n",
    "    - Fit linear model with Stochastic Gradient Descent.\n",
    "5. perceptron.predict(X):\n",
    "    - Predict class labels for samples in X."
   ]
  },
  {
   "cell_type": "code",
   "execution_count": 5,
   "metadata": {},
   "outputs": [],
   "source": [
    "scalar = StandardScaler()\n",
    "scalar.fit(X_train)\n",
    "X_train_std = scalar.transform(X_train)\n",
    "X_test_std = scalar.transform(X_test)\n",
    "\n",
    "perceptron = Perceptron(eta0=0.1, random_state=1)\n",
    "perceptron.fit(X_train_std, y_train)\n",
    "\n",
    "y_prediction = perceptron.predict(X_test_std)"
   ]
  },
  {
   "cell_type": "markdown",
   "metadata": {},
   "source": [
    "### Method Descriptions:\n",
    "1. accuracy_score(y_true, y_pred, *, normalize=True, sample_weight=None):\n",
    "    - Accuracy classification score.\n",
    "    - In multilabel classification, this function computes subset accuracy:\n",
    "        - The set of labels predicted for a sample must exactly match the corresponding set of labels in y_true."
   ]
  },
  {
   "cell_type": "code",
   "execution_count": 6,
   "metadata": {},
   "outputs": [
    {
     "name": "stdout",
     "output_type": "stream",
     "text": [
      "Misclassified Examples: 1\n",
      "Model Accuracy: 97.78%\n"
     ]
    }
   ],
   "source": [
    "print(f\"Misclassified Examples: {(y_test != y_prediction).sum()}\")\n",
    "print(f\"Model Accuracy: {round((accuracy_score(y_test, y_prediction)*100), 2)}%\")"
   ]
  },
  {
   "cell_type": "markdown",
   "metadata": {},
   "source": [
    "### Method Descriptions:\n",
    "1. ndarray.min(axis=None, out=None, keepdims=False, initial=<no value>, where=True):\n",
    "    - Return the minimum along a given axis.\n",
    "2. ndarray.max(axis=None, out=None, keepdims=False, initial=<no value>, where=True):\n",
    "    - Return the maximum along a given axis.\n",
    "3. ListedColormap(colors, name='from_list', N=None):\n",
    "    - Colormap object generated from a list of colors.\n",
    "    - This may be most useful when indexing directly into a colormap, but it can also be used to generate special colormaps for ordinary mapping.\n",
    "4. meshgrid(*xi, copy=True, sparse=False, indexing='xy'):\n",
    "    - Return coordinate matrices from coordinate vectors.\n",
    "    - Make N-D coordinate arrays for vectorized evaluations of N-D scalar/vector fields over N-D grids, given one-dimensional coordinate arrays x1, x2,…, xn.\n",
    "5. arange([start, ]stop, [step, ]dtype=None, *, like=None):\n",
    "    - Return evenly spaced values within a given interval.\n",
    "    - Values are generated within the half-open interval [start, stop) (in other words, the interval including start but excluding stop).\n",
    "    - For integer arguments the function is equivalent to the Python built-in range function, but returns an ndarray rather than a list.\n",
    "    - When using a non-integer step, such as 0.1, the results will often not be consistent. It is better to use numpy.linspace for these cases.\n",
    "6. ndarray.ravel([order]):\n",
    "    - Return a flattened array.\n",
    "7. ndarray.T:\n",
    "    - The transposed array. (Turns row-array to column-array and vice-versa)\n",
    "8. ndarray.shape:\n",
    "    - Tuple of array dimensions.\n",
    "    - The shape property is usually used to get the current shape of an array, but may also be used to reshape the array in-place by assigning a tuple of array dimensions to it.\n",
    "    - As with numpy.reshape, one of the new shape dimensions can be -1, in which case its value is inferred from the size of the array and the remaining dimensions.\n",
    "    - Reshaping an array in-place will fail if a copy is required.\n",
    "9. reshape(a, newshape, order='C'):\n",
    "    - Gives a new shape to an array without changing its data.\n",
    "10. contourf(*args, data=None, **kwargs):\n",
    "    - Plot filled contours.\n",
    "11. xlim & ylim(*args, **kwargs):\n",
    "    - Get or set the x or y limits of the current axes."
   ]
  },
  {
   "cell_type": "code",
   "execution_count": 7,
   "metadata": {},
   "outputs": [],
   "source": [
    "def plot_decision_regions(X, y, classifier, test_idx=None, resolution=0.02):\n",
    "    # Setup marker generator and color map\n",
    "    markers = (\"s\", \"x\", \"o\", \"^\", \"v\")\n",
    "    colors = (\"red\", \"blue\", \"lightgreen\", \"gray\", \"cyan\")\n",
    "    cmap = ListedColormap(colors[:len(np.unique(y))])\n",
    "\n",
    "    # Plot decision surface\n",
    "    x1_min, x1_max = X[:, 0].min() - 1, X[:, 0].max() + 1\n",
    "    x2_min, x2_max = X[:, 0].min() - 1, X[:, 0].max() + 1\n",
    "    xx1, xx2 = np.meshgrid(np.arange(x1_min, x1_max, resolution), np.arange(x2_min, x2_max, resolution))\n",
    "    Z = classifier.predict(np.array([xx1.ravel(), xx2.ravel()]).T)\n",
    "    Z = Z.reshape(xx1.shape)\n",
    "    plt.contourf(xx1, xx2, Z, alpha=0.3, cmap=cmap)\n",
    "    plt.xlim(xx1.min(), xx1.max())\n",
    "    plt.ylim(xx2.min(), xx2.max())\n",
    "\n",
    "    for index, lbl in enumerate(np.unique(y)):\n",
    "        plt.scatter(x=X[y == lbl, 0], y=X[y == lbl, 1], alpha=0.8, \n",
    "            c=colors[index], marker=markers[index], label=lbl, \n",
    "            edgecolor=\"black\")\n",
    "    \n",
    "    # Highlight test examples\n",
    "    if test_idx:\n",
    "        # Plot all examples\n",
    "        X_test, y_test = X[test_idx, :], y[test_idx]\n",
    "\n",
    "        plt.scatter(X_test[:, 0], X_test[:, 1], c=\"black\", edgecolor=\"black\", \n",
    "            alpha=1.0, linewidth=1, marker=\"o\", s=25, label=\"test set\")"
   ]
  },
  {
   "cell_type": "markdown",
   "metadata": {},
   "source": [
    "### Method Descriptions:\n",
    "1. vstack(tup):\n",
    "    - Stack arrays in sequence vertically (row wise).\n",
    "    - This is equivalent to concatenation along the first axis after 1-D arrays of shape (N,) have been reshaped to (1,N). Rebuilds arrays divided by vsplit.\n",
    "    - This function makes most sense for arrays with up to 3 dimensions.\n",
    "2. hstack(tup):\n",
    "    - Stack arrays in sequence horizontally (column wise).\n",
    "    - This is equivalent to concatenation along the second axis, except for 1-D arrays where it concatenates along the first axis. Rebuilds arrays divided by hsplit.\n",
    "    - This function makes most sense for arrays with up to 3 dimensions."
   ]
  },
  {
   "cell_type": "code",
   "execution_count": 8,
   "metadata": {},
   "outputs": [
    {
     "name": "stderr",
     "output_type": "stream",
     "text": [
      "C:\\Users\\ANONYM~1\\AppData\\Local\\Temp/ipykernel_16728/2329631292.py:18: UserWarning: You passed a edgecolor/edgecolors ('black') for an unfilled marker ('x').  Matplotlib is ignoring the edgecolor in favor of the facecolor.  This behavior may change in the future.\n",
      "  plt.scatter(x=X[y == lbl, 0], y=X[y == lbl, 1], alpha=0.8,\n"
     ]
    },
    {
     "data": {
      "image/png": "[encoded data removed]",
      "text/plain": [
       "<Figure size 432x288 with 1 Axes>"
      ]
     },
     "metadata": {
      "needs_background": "light"
     },
     "output_type": "display_data"
    }
   ],
   "source": [
    "X_combined_std = np.vstack((X_train_std, X_test_std))\n",
    "y_combined = np.hstack((y_train, y_test))\n",
    "plot_decision_regions(X=X_combined_std, y=y_combined, classifier=perceptron, test_idx=range(105, 150))\n",
    "plt.xlabel(\"Petal Length [Standardized]\")\n",
    "plt.ylabel(\"Petal Width [Standardized]\")\n",
    "plt.legend(loc=\"upper left\")\n",
    "plt.tight_layout()"
   ]
  }
 ],
 "metadata": {
  "interpreter": {
   "hash": "1aad91322e9f4b1bca8b3144bcf5b08e5cbaa8e2651c1f57f28c5e4d868b523d"
  },
  "kernelspec": {
   "display_name": "Python 3.10.0 64-bit ('ml_env': venv)",
   "language": "python",
   "name": "python3"
  },
  "language_info": {
   "codemirror_mode": {
    "name": "ipython",
    "version": 3
   },
   "file_extension": ".py",
   "mimetype": "text/x-python",
   "name": "python",
   "nbconvert_exporter": "python",
   "pygments_lexer": "ipython3",
   "version": "3.10.0"
  },
  "orig_nbformat": 4
 },
 "nbformat": 4,
 "nbformat_minor": 2
}
